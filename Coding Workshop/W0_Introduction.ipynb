{
 "cells": [
  {
   "cell_type": "markdown",
   "id": "feab5cf3",
   "metadata": {},
   "source": [
    "### 🧬 **Workshop 1: Introduction to Python and Compuational Biology**\n",
    "\n",
    "NAME: Nery A. Matias Calmo\n",
    "\n",
    "DATE: June 02, 2025\n",
    "\n",
    "Welcome to your first workshop on using Python for biological research!\n",
    "In this session you will master your programming skills using python and juypter notebook to process and analyze a DNA sequence file. You will also use python libaries like `matplotlib` to visualize the biological data and explore how coding is used in genomic processing and biotechnology. "
   ]
  },
  {
   "cell_type": "code",
   "execution_count": null,
   "id": "d1e617a1",
   "metadata": {},
   "outputs": [],
   "source": []
  },
  {
   "cell_type": "markdown",
   "id": "3c2e7898",
   "metadata": {},
   "source": [
    "### **Section 1: The Basics**\n",
    "Before we move foward, lets take some time to do some coding review! This will be helpful going foward and be used as a refrence for you! Lets get started!"
   ]
  },
  {
   "cell_type": "markdown",
   "id": "967e20d3",
   "metadata": {},
   "source": [
    "#### **Section 1.1: Variables and Data Types**\n",
    "This section introduces how data is stored and categorized in Python. Scalar types like ``int``, ``float``, ``bool``, and ``str`` represent basic data forms (numbers, logic values, and text, respectively). Python also includes collection types such as ``lists``, ``tuples``, ``sets``, and ``dictionaries``, which help organize more complex data. These types are essential for managing biological datasets, such as storing gene expression values in a list, encoding DNA sequences as strings, or using dictionaries to map gene IDs to their respective protein products. Understanding data types is foundational for organizing biological data efficiently before performing analyses or simulations."
   ]
  },
  {
   "cell_type": "markdown",
   "id": "bdc94f68",
   "metadata": {},
   "source": [
    "**Scalar Types and String Types**\n",
    "\n",
    "Define a variable named ``a`` and assign it to the vlaue of 5. "
   ]
  },
  {
   "cell_type": "code",
   "execution_count": 1,
   "id": "ce975d58",
   "metadata": {},
   "outputs": [],
   "source": [
    "a = 5"
   ]
  },
  {
   "cell_type": "markdown",
   "id": "c1655e7d",
   "metadata": {},
   "source": [
    "To print the vlaue of the variable ``a``, we can either ``print(a)`` or simply type  ``a``"
   ]
  },
  {
   "cell_type": "code",
   "execution_count": 2,
   "id": "e8396f27",
   "metadata": {},
   "outputs": [
    {
     "name": "stdout",
     "output_type": "stream",
     "text": [
      "5\n"
     ]
    }
   ],
   "source": [
    "print(a)"
   ]
  },
  {
   "cell_type": "code",
   "execution_count": 3,
   "id": "2a000ea6",
   "metadata": {},
   "outputs": [
    {
     "data": {
      "text/plain": [
       "5"
      ]
     },
     "execution_count": 3,
     "metadata": {},
     "output_type": "execute_result"
    }
   ],
   "source": [
    "a"
   ]
  },
  {
   "cell_type": "markdown",
   "id": "99a7d91f",
   "metadata": {},
   "source": [
    "In python, every variable has a type associated to it. To get the type of the variable ``x``, use ``type(x)``"
   ]
  },
  {
   "cell_type": "code",
   "execution_count": 4,
   "id": "aa1add13",
   "metadata": {},
   "outputs": [
    {
     "data": {
      "text/plain": [
       "int"
      ]
     },
     "execution_count": 4,
     "metadata": {},
     "output_type": "execute_result"
    }
   ],
   "source": [
    "type(a)"
   ]
  },
  {
   "cell_type": "markdown",
   "id": "20964e65",
   "metadata": {},
   "source": [
    "**Main Data Types**\n",
    "\n",
    "-----------------------------------------------------------------------------------------\n",
    "**Numeric Types**\n",
    "- ``int``: represents integers (whole number) such as ``10``, ``-5``, ``0``\n",
    "- ``float``: represents numbers with decimal points like ``3.14``, ``-2.5``, ``3.98``\n",
    "- ``complex``: represents complex numbers with imaginary (j) parts like ``2 + 3j``\n",
    "\n",
    "**Text Type**\n",
    "- ``str``: represents a seuqnece of characters like ``hello``, ``This is a sentence``\n",
    "\n",
    "**Boolean Type**\n",
    "- ``bool``: presents a boolean vlaues, basically either ``True`` or ``False``\n",
    "-----------------------------------------------------------------------------------------\n",
    "Lets define more variables and get their associated types for each case!"
   ]
  },
  {
   "cell_type": "code",
   "execution_count": null,
   "id": "48e05d9f",
   "metadata": {},
   "outputs": [
    {
     "data": {
      "text/plain": [
       "(float, bool, str, complex)"
      ]
     },
     "execution_count": 5,
     "metadata": {},
     "output_type": "execute_result"
    }
   ],
   "source": [
    "b = 2.0\n",
    "c = True\n",
    "d = \"Biology is cool!\"\n",
    "e = 2 + 3j\n",
    "\n",
    "type(b), type(c), type(d), type(e)"
   ]
  },
  {
   "cell_type": "markdown",
   "id": "da486d80",
   "metadata": {},
   "source": [
    "**Collection Types**\n",
    "Data types that can holf multiple vlaues are called colleciton data types. In python, there are 4 distinct collection data types: \n",
    "\n",
    "- **List** is a collection which is ordered and changeable. Allows duplicate members.\n",
    "- **Tuple** is a collection which is ordered and unchangeable. Allows duplicate members.\n",
    "- **Set** is a collection which is unordered and unindexed. No duplicate members.\n",
    "- **Dictionary** is a collection which is unordered, changeable and indexed. No duplicate members."
   ]
  },
  {
   "cell_type": "markdown",
   "id": "5af42954",
   "metadata": {},
   "source": [
    "**List**"
   ]
  },
  {
   "cell_type": "code",
   "execution_count": 6,
   "id": "06273089",
   "metadata": {},
   "outputs": [
    {
     "data": {
      "text/plain": [
       "list"
      ]
     },
     "execution_count": 6,
     "metadata": {},
     "output_type": "execute_result"
    }
   ],
   "source": [
    "#List \n",
    "L = [a, b, c, d, e]\n",
    "type(L)"
   ]
  },
  {
   "cell_type": "markdown",
   "id": "5710aab1",
   "metadata": {},
   "source": [
    "Python lists come with many built in ways that allow you to access and mnipulate the elements of a ``list`` and the list iteself. You can find what methods are available for a list by running ``dir(list)``"
   ]
  },
  {
   "cell_type": "code",
   "execution_count": 7,
   "id": "e7ab6c1a",
   "metadata": {},
   "outputs": [
    {
     "data": {
      "text/plain": [
       "['__add__',\n",
       " '__class__',\n",
       " '__class_getitem__',\n",
       " '__contains__',\n",
       " '__delattr__',\n",
       " '__delitem__',\n",
       " '__dir__',\n",
       " '__doc__',\n",
       " '__eq__',\n",
       " '__format__',\n",
       " '__ge__',\n",
       " '__getattribute__',\n",
       " '__getitem__',\n",
       " '__getstate__',\n",
       " '__gt__',\n",
       " '__hash__',\n",
       " '__iadd__',\n",
       " '__imul__',\n",
       " '__init__',\n",
       " '__init_subclass__',\n",
       " '__iter__',\n",
       " '__le__',\n",
       " '__len__',\n",
       " '__lt__',\n",
       " '__mul__',\n",
       " '__ne__',\n",
       " '__new__',\n",
       " '__reduce__',\n",
       " '__reduce_ex__',\n",
       " '__repr__',\n",
       " '__reversed__',\n",
       " '__rmul__',\n",
       " '__setattr__',\n",
       " '__setitem__',\n",
       " '__sizeof__',\n",
       " '__str__',\n",
       " '__subclasshook__',\n",
       " 'append',\n",
       " 'clear',\n",
       " 'copy',\n",
       " 'count',\n",
       " 'extend',\n",
       " 'index',\n",
       " 'insert',\n",
       " 'pop',\n",
       " 'remove',\n",
       " 'reverse',\n",
       " 'sort']"
      ]
     },
     "execution_count": 7,
     "metadata": {},
     "output_type": "execute_result"
    }
   ],
   "source": [
    "dir(L)"
   ]
  },
  {
   "cell_type": "code",
   "execution_count": 8,
   "id": "af000738",
   "metadata": {},
   "outputs": [
    {
     "data": {
      "text/plain": [
       "(5, 2.0, False)"
      ]
     },
     "execution_count": 8,
     "metadata": {},
     "output_type": "execute_result"
    }
   ],
   "source": [
    "## Access elements of alist using 0-based index (basically starting at 0)\n",
    "L[0], L[1], L[2]"
   ]
  },
  {
   "cell_type": "code",
   "execution_count": 9,
   "id": "4bea401d",
   "metadata": {},
   "outputs": [
    {
     "data": {
      "text/plain": [
       "((2+3j), 'Biology is cool!', False)"
      ]
     },
     "execution_count": 9,
     "metadata": {},
     "output_type": "execute_result"
    }
   ],
   "source": [
    "## Access elements of a list using a negative index (accesses elements from the end instead of the beginning)\n",
    "L[-1], L[-2], L[-3]"
   ]
  },
  {
   "cell_type": "code",
   "execution_count": 10,
   "id": "2da698d0",
   "metadata": {},
   "outputs": [
    {
     "data": {
      "text/plain": [
       "5"
      ]
     },
     "execution_count": 10,
     "metadata": {},
     "output_type": "execute_result"
    }
   ],
   "source": [
    "## Get the length of a list (how many elements)\n",
    "len(L)"
   ]
  },
  {
   "cell_type": "code",
   "execution_count": 11,
   "id": "367e604e",
   "metadata": {},
   "outputs": [
    {
     "name": "stdout",
     "output_type": "stream",
     "text": [
      "[5, 2.0, False, 'Biology is cool!', (2+3j), 4]\n"
     ]
    }
   ],
   "source": [
    "## Append an element to a list \n",
    "L.append(4)\n",
    "print(L)"
   ]
  },
  {
   "cell_type": "code",
   "execution_count": null,
   "id": "03147326",
   "metadata": {},
   "outputs": [
    {
     "name": "stdout",
     "output_type": "stream",
     "text": [
      "[5, 3, 2.0, False, 'Biology is cool!', (2+3j), 4]\n"
     ]
    }
   ],
   "source": [
    "## Insert an element to a list, basically using L.insert(a, b), it will insert b at index a\n",
    "L.insert(1, 3)\n",
    "print(L)"
   ]
  },
  {
   "cell_type": "code",
   "execution_count": 13,
   "id": "9aff4eaa",
   "metadata": {},
   "outputs": [
    {
     "name": "stdout",
     "output_type": "stream",
     "text": [
      "[5, 2.0, False, 'Biology is cool!', (2+3j), 4]\n"
     ]
    }
   ],
   "source": [
    "## Remove an element from a list \n",
    "L.remove(3)\n",
    "print(L)"
   ]
  },
  {
   "cell_type": "code",
   "execution_count": 14,
   "id": "9d667d12",
   "metadata": {},
   "outputs": [
    {
     "name": "stdout",
     "output_type": "stream",
     "text": [
      "[5, 2.0, False, 'Biology is cool!', (2+3j)]\n"
     ]
    }
   ],
   "source": [
    "## Pop an element from a list \n",
    "L.pop()\n",
    "print(L)"
   ]
  },
  {
   "cell_type": "code",
   "execution_count": 15,
   "id": "bace4ebb",
   "metadata": {},
   "outputs": [
    {
     "name": "stdout",
     "output_type": "stream",
     "text": [
      "[5, 2.0, False, 'Biology is cool!', (2+3j), 5, 6, 7]\n"
     ]
    }
   ],
   "source": [
    "## Concatenate two lists\n",
    "L2 = [5, 6, 7]\n",
    "L3 = L + L2 \n",
    "print(L3)"
   ]
  },
  {
   "cell_type": "markdown",
   "id": "0b82d201",
   "metadata": {},
   "source": [
    "**Tuple**\n",
    "\n",
    "A tuple is similar to a list, but it is fixed (ie, unchangable where you can not change its elements once it is created)"
   ]
  },
  {
   "cell_type": "code",
   "execution_count": 16,
   "id": "7437a66c",
   "metadata": {},
   "outputs": [
    {
     "name": "stdout",
     "output_type": "stream",
     "text": [
      "<class 'tuple'>\n"
     ]
    }
   ],
   "source": [
    "T = (1, 2, 3, 4)\n",
    "print(type(T))"
   ]
  },
  {
   "cell_type": "code",
   "execution_count": 18,
   "id": "51558c25",
   "metadata": {},
   "outputs": [
    {
     "name": "stdout",
     "output_type": "stream",
     "text": [
      "Error encountered: 'tuple' object has no attribute 'append'\n"
     ]
    }
   ],
   "source": [
    "try: \n",
    "    T.append(4)\n",
    "except Exception as e: \n",
    "    print(f'Error encountered: {e}')"
   ]
  },
  {
   "cell_type": "markdown",
   "id": "069d9c16",
   "metadata": {},
   "source": [
    "**Set**"
   ]
  },
  {
   "cell_type": "code",
   "execution_count": 19,
   "id": "6d4b7ae2",
   "metadata": {},
   "outputs": [
    {
     "name": "stdout",
     "output_type": "stream",
     "text": [
      "{1, 2, 3, 4}\n",
      "<class 'set'>\n",
      "4\n"
     ]
    }
   ],
   "source": [
    "S = {1, 2, 3, 4}\n",
    "print(S)\n",
    "print(type(S))\n",
    "print(len(S))"
   ]
  },
  {
   "cell_type": "code",
   "execution_count": 20,
   "id": "94b6014d",
   "metadata": {},
   "outputs": [
    {
     "name": "stdout",
     "output_type": "stream",
     "text": [
      "{1, 2, 3, 4, 5}\n",
      "{1, 2, 3, 4}\n"
     ]
    }
   ],
   "source": [
    "S.add(5) ## Add an element to a set\n",
    "print(S)\n",
    "\n",
    "S.remove(5)\n",
    "print(S)"
   ]
  },
  {
   "cell_type": "code",
   "execution_count": 21,
   "id": "2121527c",
   "metadata": {},
   "outputs": [
    {
     "name": "stdout",
     "output_type": "stream",
     "text": [
      "{1, 2, 3, 4, 5}\n",
      "{3}\n",
      "{1, 2}\n"
     ]
    }
   ],
   "source": [
    "## Set opertations \n",
    "S1 = {1, 2, 3}\n",
    "S2 = {3, 4, 5}\n",
    "print(S1.union(S2))\n",
    "print(S1.intersection(S2))\n",
    "print(S1.difference(S2))"
   ]
  },
  {
   "cell_type": "markdown",
   "id": "4eca1906",
   "metadata": {},
   "source": [
    "**Dictionaries**\n",
    "\n",
    "A dictionary is a collection of key-value pairs. Each key-value pair maps the key to its corresponding vlaue. Dictionaries are unordered, so the order that the keys are added does not necessarily reflect what order they may be reported back"
   ]
  },
  {
   "cell_type": "code",
   "execution_count": 28,
   "id": "a632b483",
   "metadata": {},
   "outputs": [
    {
     "name": "stdout",
     "output_type": "stream",
     "text": [
      "{'A': 1, 'B': 2, 'C': 3, 'D': 4, 'E': 5}\n",
      "<class 'dict'>\n",
      "5\n",
      "D\n"
     ]
    }
   ],
   "source": [
    "D = {'A': 1, 'B': 2, 'C': 3, 'D': 4, 'E': 5}\n",
    "## Pay attention to the difference in datatypes D is a dict, but 'D' is a str\n",
    "print(D)\n",
    "print(type(D))\n",
    "print(len(D))\n",
    "\n",
    "print('D')"
   ]
  },
  {
   "cell_type": "code",
   "execution_count": 26,
   "id": "7765a996",
   "metadata": {},
   "outputs": [
    {
     "name": "stdout",
     "output_type": "stream",
     "text": [
      "1\n",
      "1\n"
     ]
    }
   ],
   "source": [
    "## Access elelements of a dictionary \n",
    "print(D['A'])\n",
    "print(D.get('A'))"
   ]
  },
  {
   "cell_type": "code",
   "execution_count": 29,
   "id": "1aa366df",
   "metadata": {},
   "outputs": [
    {
     "name": "stdout",
     "output_type": "stream",
     "text": [
      "{'A': 1, 'B': 2, 'C': 3, 'D': 4, 'E': 5, 'F': 6}\n"
     ]
    }
   ],
   "source": [
    "## Add an element to a dictionary \n",
    "D['F'] = 6\n",
    "print(D)"
   ]
  },
  {
   "cell_type": "code",
   "execution_count": 30,
   "id": "c25b9e82",
   "metadata": {},
   "outputs": [
    {
     "name": "stdout",
     "output_type": "stream",
     "text": [
      "{'A': 1, 'B': 2, 'C': 3, 'E': 5, 'F': 6}\n"
     ]
    }
   ],
   "source": [
    "## Remove an element from a sictionary \n",
    "D.pop('D')\n",
    "print(D)"
   ]
  },
  {
   "cell_type": "code",
   "execution_count": 31,
   "id": "adcf0540",
   "metadata": {},
   "outputs": [
    {
     "name": "stdout",
     "output_type": "stream",
     "text": [
      "dict_keys(['A', 'B', 'C', 'E', 'F'])\n"
     ]
    }
   ],
   "source": [
    "## Get the keys of a dictionary \n",
    "print(D.keys())"
   ]
  },
  {
   "cell_type": "code",
   "execution_count": 32,
   "id": "6d26b4a2",
   "metadata": {},
   "outputs": [
    {
     "name": "stdout",
     "output_type": "stream",
     "text": [
      "dict_values([1, 2, 3, 5, 6])\n"
     ]
    }
   ],
   "source": [
    "## Get the vlaues of dictionary \n",
    "print(D.values())"
   ]
  },
  {
   "cell_type": "code",
   "execution_count": 33,
   "id": "3e831cdb",
   "metadata": {},
   "outputs": [
    {
     "name": "stdout",
     "output_type": "stream",
     "text": [
      "dict_items([('A', 1), ('B', 2), ('C', 3), ('E', 5), ('F', 6)])\n"
     ]
    }
   ],
   "source": [
    "## Get the items of a dictionary \n",
    "print(D.items())"
   ]
  },
  {
   "cell_type": "markdown",
   "id": "7628335e",
   "metadata": {},
   "source": [
    "#### **Section 1.2: Control Flow**\n",
    "Control flow involves directing the execution of code using conditions (``if``, ``elif``, ``else``) and loops (``for``, ``while``). In biological contexts, control flow is useful for filtering datasets (e.g., selecting samples with gene expression above a threshold), automating repetitive tasks (e.g., processing each image in a dataset), and running simulations. For example, you might use a loop to go through multiple patient records or apply a conditional statement to identify whether a cell's measured value indicates a disease state."
   ]
  },
  {
   "cell_type": "markdown",
   "id": "ff04e341",
   "metadata": {},
   "source": [
    "**Conditional Statements**"
   ]
  },
  {
   "cell_type": "code",
   "execution_count": 34,
   "id": "38a7a075",
   "metadata": {},
   "outputs": [
    {
     "name": "stdout",
     "output_type": "stream",
     "text": [
      "Condition is True\n"
     ]
    }
   ],
   "source": [
    "Condition = True\n",
    "if Condition: \n",
    "    print('Condition is True')\n",
    "else: \n",
    "    print('Condition is False')"
   ]
  },
  {
   "cell_type": "code",
   "execution_count": 35,
   "id": "0ad0fd6e",
   "metadata": {},
   "outputs": [
    {
     "name": "stdout",
     "output_type": "stream",
     "text": [
      "A is less than B\n"
     ]
    }
   ],
   "source": [
    "A = 1\n",
    "B = 2\n",
    "\n",
    "if A > B: \n",
    "    print('A is greater than B')\n",
    "elif A < B: \n",
    "    print('A is less than B')\n",
    "else: \n",
    "    print('A is equal to B')"
   ]
  },
  {
   "cell_type": "markdown",
   "id": "fe7723ad",
   "metadata": {},
   "source": [
    "**Loops**"
   ]
  },
  {
   "cell_type": "code",
   "execution_count": 40,
   "id": "26b9d735",
   "metadata": {},
   "outputs": [
    {
     "name": "stdout",
     "output_type": "stream",
     "text": [
      "0\n",
      "1\n",
      "2\n",
      "3\n",
      "4\n",
      "----------------------\n",
      "0\n",
      "1\n",
      "2\n",
      "3\n",
      "4\n"
     ]
    }
   ],
   "source": [
    "## For Loop\n",
    "L = [0, 1, 2, 3, 4]\n",
    "for i in L: ## i in this case is the index, but this could be replaced by any variable\n",
    "    print(i)\n",
    "\n",
    "print('----------------------')\n",
    "for Integer in L:\n",
    "    print(Integer)"
   ]
  },
  {
   "cell_type": "code",
   "execution_count": 42,
   "id": "59769833",
   "metadata": {},
   "outputs": [
    {
     "name": "stdout",
     "output_type": "stream",
     "text": [
      "0\n",
      "Hello World\n",
      "2.0\n",
      "True\n",
      "[1, 2, 3]\n"
     ]
    }
   ],
   "source": [
    "L = [0, 'Hello World', 2.0, True, [1, 2, 3]]\n",
    "for i in L: \n",
    "    print(i)"
   ]
  },
  {
   "cell_type": "code",
   "execution_count": null,
   "id": "5f1864d3",
   "metadata": {},
   "outputs": [
    {
     "name": "stdout",
     "output_type": "stream",
     "text": [
      "0\n",
      "1\n",
      "2\n",
      "3\n",
      "4\n"
     ]
    }
   ],
   "source": [
    "## While Loop\n",
    "i = 0 \n",
    "while i  < 5: ## basically keeps the loop going until i = 5\n",
    "    print(i)\n",
    "    i += 1 ## combination operation of i+1 "
   ]
  },
  {
   "cell_type": "markdown",
   "id": "09967ee2",
   "metadata": {},
   "source": [
    "#### **Section 1.3: Functions**\n",
    "Functions allow you to group reusable code blocks that take inputs (parameters) and return outputs. This modularity helps reduce redundancy and improves code clarity. In biology, functions are critical when building pipelines, such as calculating statistical metrics on experimental data (e.g., mean, standard deviation), converting nucleotide sequences, or simulating reaction rates. Defining functions also helps streamline data analysis workflows and makes it easier to collaborate and share code."
   ]
  },
  {
   "cell_type": "code",
   "execution_count": null,
   "id": "4a54e2ce",
   "metadata": {},
   "outputs": [
    {
     "name": "stdout",
     "output_type": "stream",
     "text": [
      "25\n"
     ]
    }
   ],
   "source": [
    "def Sum_of_Squares(A, B): \n",
    "    return A**2 + B**2 ## A**2 is the math operation for A^2\n",
    "\n",
    "print(Sum_of_Squares(3, 4))"
   ]
  },
  {
   "cell_type": "code",
   "execution_count": 46,
   "id": "363966b4",
   "metadata": {},
   "outputs": [
    {
     "name": "stdout",
     "output_type": "stream",
     "text": [
      "15\n"
     ]
    }
   ],
   "source": [
    "def Sum(L):\n",
    "    S = 0\n",
    "    for i in L: \n",
    "        S += i\n",
    "    return S\n",
    "\n",
    "print(Sum([1, 2, 3, 4, 5]))"
   ]
  },
  {
   "cell_type": "code",
   "execution_count": 48,
   "id": "37d53f1e",
   "metadata": {},
   "outputs": [
    {
     "name": "stdout",
     "output_type": "stream",
     "text": [
      "3.0\n"
     ]
    }
   ],
   "source": [
    "def Mean(L):\n",
    "    return Sum(L) / len(L)\n",
    "\n",
    "print(Mean([1, 2, 3 , 4, 5]))"
   ]
  },
  {
   "cell_type": "markdown",
   "id": "4ee716b1",
   "metadata": {},
   "source": [
    "#### **Section 1.4: Classes and Objects**\n",
    "Object-oriented programming (OOP) introduces the concept of classes and objects, allowing for the creation of custom data structures. A class bundles data (attributes) and behaviors (methods), which is especially useful for modeling biological systems. For example, you might create a ``Cell`` class with attributes like volume, type, and methods like ``divide()`` or ``mutate()``. This abstraction is powerful in bioinformatics or computational biology for designing simulations of biological processes such as protein folding or cell growth."
   ]
  },
  {
   "cell_type": "markdown",
   "id": "27e451d1",
   "metadata": {},
   "source": [
    "An object is an instance of a class. The data types that we have been using so far are actually classes. For example, ``List`` is a class and ``list()`` or ``[]`` creates an object of the class ``List``. Ecen the scaler types like ``int``, ``float``, ``str`` are classes in Python. when you create a variable of type ``str``, you are creating an object of the class ``str``. Remember that in Python, everything is an object of some class. "
   ]
  },
  {
   "cell_type": "code",
   "execution_count": 50,
   "id": "fc65024a",
   "metadata": {},
   "outputs": [],
   "source": [
    "## Lets try and make a class: we will try and define what a rectangle is! \n",
    "class Rectangle: \n",
    "    def __init__(self, Width, Height): \n",
    "        self.Width = Width\n",
    "        self.Height = Height\n",
    "    \n",
    "    def Area(self): \n",
    "        return self.Width * self.Height\n",
    "    \n",
    "    def Perimeter(self):\n",
    "        return 2 * (self.Width + self.Height)\n",
    "    \n",
    "    def __str__(self): \n",
    "        return f'Rectangle(Width = {self.Width}, Height = {self.Height})'"
   ]
  },
  {
   "cell_type": "code",
   "execution_count": 51,
   "id": "b215a9c3",
   "metadata": {},
   "outputs": [
    {
     "name": "stdout",
     "output_type": "stream",
     "text": [
      "3\n",
      "4\n",
      "12\n",
      "14\n",
      "Rectangle(Width = 3, Height = 4)\n"
     ]
    }
   ],
   "source": [
    "Rec = Rectangle(3, 4)\n",
    "\n",
    "print(Rec.Width)\n",
    "print(Rec.Height)\n",
    "print(Rec.Area())\n",
    "print(Rec.Perimeter())\n",
    "print(Rec)"
   ]
  },
  {
   "cell_type": "code",
   "execution_count": 68,
   "id": "209db779",
   "metadata": {},
   "outputs": [],
   "source": [
    "## Now lets try something more bio-inspired \n",
    "class DNA:\n",
    "    def __init__(self, Sequence): \n",
    "        self.Sequence = Sequence.upper()\n",
    "    \n",
    "    ## Calculates the length of the sequence\n",
    "    def Length(self): \n",
    "        return len(self.Sequence)\n",
    "    \n",
    "    ## Counts the number of each base\n",
    "    def Base_Counts(self): \n",
    "        counts = {\n",
    "            'A': self.Sequence.count('A'),\n",
    "            'T': self.Sequence.count('T'),\n",
    "            'C': self.Sequence.count('C'),\n",
    "            'G': self.Sequence.count('G')\n",
    "        }\n",
    "        return counts\n",
    "    \n",
    "    ## Transcribe the sequence to RNA (T -> U)\n",
    "    def RNA_Sequence(self): \n",
    "        return self.Sequence.replace('T', 'U')\n",
    "    \n",
    "    ## Find its complement strand (A <-> T, C <-> G)\n",
    "    def Complement_Strand(self): \n",
    "        Complement = {'A': 'T', 'T': 'A', 'C': 'G', 'G': 'C'}\n",
    "        return ''.join(Complement[base] for base in self.Sequence)\n",
    "    \n",
    "    ## Split into codons (groups of 3 bases)\n",
    "    def Codons(self):\n",
    "        return [self.Sequence[i : i + 3] for i in range(0, len(self.Sequence) - 2, 3)]\n",
    "        \n",
    "    ## Translate to amino acid sequence using codon table\n",
    "    def Amino_Acid(self):\n",
    "        Condon_Table = {\n",
    "            'AUG': 'M', 'UUU': 'F', 'UUC': 'F', 'UUA': 'L', 'UUG': 'L',\n",
    "            'UCU': 'S', 'UCC': 'S', 'UCA': 'S', 'UCG': 'S',\n",
    "            'UAU': 'Y', 'UAC': 'Y', 'UAA': '*', 'UAG': '*', 'UGA': '*',\n",
    "            'UGU': 'C', 'UGC': 'C', 'UGG': 'W',\n",
    "            'CUU': 'L', 'CUC': 'L', 'CUA': 'L', 'CUG': 'L',\n",
    "            'CCU': 'P', 'CCC': 'P', 'CCA': 'P', 'CCG': 'P',\n",
    "            'CAU': 'H', 'CAC': 'H', 'CAA': 'Q', 'CAG': 'Q',\n",
    "            'CGU': 'R', 'CGC': 'R', 'CGA': 'R', 'CGG': 'R',\n",
    "            'AUU': 'I', 'AUC': 'I', 'AUA': 'I', 'ACU': 'T',\n",
    "            'ACC': 'T', 'ACA': 'T', 'ACG': 'T', 'AAU': 'N',\n",
    "            'AAC': 'N', 'AAA': 'K', 'AAG': 'K', 'AGU': 'S',\n",
    "            'AGC': 'S', 'AGA': 'R', 'AGG': 'R', 'GUU': 'V',\n",
    "            'GUC': 'V', 'GUA': 'V', 'GUG': 'V', 'GCU': 'A',\n",
    "            'GCC': 'A', 'GCA': 'A', 'GCG': 'A', 'GAU': 'D',\n",
    "            'GAC': 'D', 'GAA': 'E', 'GAG': 'E', 'GGU': 'G',\n",
    "            'GGC': 'G', 'GGA': 'G', 'GGG': 'G'\n",
    "        }\n",
    "        RNA_Seq = self.RNA_Sequence()\n",
    "        Codons = [RNA_Seq[i : i + 3] for i in range(0, len(RNA_Seq) - 2, 3)]\n",
    "        Amino_Acids = [Condon_Table.get(codon, '?') for codon in Codons if len(codon) == 3]\n",
    "        return ''.join(Amino_Acids)\n",
    "    \n",
    "    def __str__(self): \n",
    "        return f'DNA(Sequence = {self.Sequence})'"
   ]
  },
  {
   "cell_type": "code",
   "execution_count": 69,
   "id": "5a6a19d8",
   "metadata": {},
   "outputs": [
    {
     "name": "stdout",
     "output_type": "stream",
     "text": [
      "TGGAACTTACTT\n",
      "----------------------------------------------\n",
      "Length:            12\n",
      "Base Counts:       {'A': 3, 'T': 5, 'C': 2, 'G': 2}\n",
      "RNA Sequence:      UGGAACUUACUU\n",
      "Complement Strand: ACCTTGAATGAA\n",
      "Codons:            ['TGG', 'AAC', 'TTA', 'CTT']\n",
      "Amino Acid Chain:  WNLL\n",
      "DNA(Sequence = TGGAACTTACTT)\n"
     ]
    }
   ],
   "source": [
    "Random_Seq = DNA('TGGAACTTACTT')\n",
    "\n",
    "print(Random_Seq.Sequence)\n",
    "print('----------------------------------------------')\n",
    "print(f'Length:            {Random_Seq.Length()}')\n",
    "print(f'Base Counts:       {Random_Seq.Base_Counts()}')\n",
    "print(f'RNA Sequence:      {Random_Seq.RNA_Sequence()}')\n",
    "print(f'Complement Strand: {Random_Seq.Complement_Strand()}')\n",
    "print(f'Codons:            {Random_Seq.Codons()}')\n",
    "print(f'Amino Acid Chain:  {Random_Seq.Amino_Acid()}')\n",
    "\n",
    "print(Random_Seq)"
   ]
  },
  {
   "cell_type": "markdown",
   "id": "f4a721db",
   "metadata": {},
   "source": [
    "#### **Section 1.5: Modules and Packages**\n",
    "Modules and packages allow you to organize code into reusable units and access external libraries. This section highlights how to import and use packages like NumPy, which is widely used in biology for numerical computations and matrix manipulations—common in analyzing imaging data or running statistical tests on omics datasets. By leveraging scientific libraries like ``NumPy``, ``SciPy``, ``Biopython``, or ``Matplotlib``, biologists can efficiently process and visualize large datasets such as genomic sequences, protein structures, or time-series data from biological experiments."
   ]
  },
  {
   "cell_type": "markdown",
   "id": "f1d81739",
   "metadata": {},
   "source": [
    "**Numpy**\n",
    "\n",
    "Numpy is a really great tool that not only has super reliable tools for advanced computational operations, but also has a wide range of functions to create and manipulate data and convert human things to things a computer can read (super useful when it comes to converting human-legible data to computer-legible data (or binary))"
   ]
  },
  {
   "cell_type": "code",
   "execution_count": 71,
   "id": "2365eb70",
   "metadata": {},
   "outputs": [],
   "source": [
    "import numpy as np"
   ]
  },
  {
   "cell_type": "code",
   "execution_count": null,
   "id": "fadf883c",
   "metadata": {},
   "outputs": [
    {
     "name": "stdout",
     "output_type": "stream",
     "text": [
      "[1 2 3]\n",
      "<class 'numpy.ndarray'>\n",
      "(3,)\n",
      "6\n"
     ]
    }
   ],
   "source": [
    "V = np.array([1, 2, 3])\n",
    "print(V)\n",
    "print(type(V))\n",
    "print(V.shape)\n",
    "print(V.sum())"
   ]
  }
 ],
 "metadata": {
  "kernelspec": {
   "display_name": "Python 3",
   "language": "python",
   "name": "python3"
  },
  "language_info": {
   "codemirror_mode": {
    "name": "ipython",
    "version": 3
   },
   "file_extension": ".py",
   "mimetype": "text/x-python",
   "name": "python",
   "nbconvert_exporter": "python",
   "pygments_lexer": "ipython3",
   "version": "3.13.3"
  }
 },
 "nbformat": 4,
 "nbformat_minor": 5
}
